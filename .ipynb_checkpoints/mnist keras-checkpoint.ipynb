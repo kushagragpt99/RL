{
 "cells": [
  {
   "cell_type": "code",
   "execution_count": 1,
   "metadata": {},
   "outputs": [
    {
     "name": "stderr",
     "output_type": "stream",
     "text": [
      "C:\\Users\\glaedur\\Anaconda3\\lib\\site-packages\\h5py\\__init__.py:36: FutureWarning: Conversion of the second argument of issubdtype from `float` to `np.floating` is deprecated. In future, it will be treated as `np.float64 == np.dtype(float).type`.\n",
      "  from ._conv import register_converters as _register_converters\n",
      "Using TensorFlow backend.\n"
     ]
    }
   ],
   "source": [
    "import tensorflow as tf\n",
    "import keras\n",
    "import numpy as np"
   ]
  },
  {
   "cell_type": "code",
   "execution_count": 2,
   "metadata": {},
   "outputs": [],
   "source": [
    "from keras.datasets import mnist\n",
    "(x_train, y_train), (x_test, y_test)=mnist.load_data()"
   ]
  },
  {
   "cell_type": "code",
   "execution_count": 3,
   "metadata": {},
   "outputs": [],
   "source": [
    "from keras.models import Sequential\n",
    "from keras.layers.convolutional import Convolution2D\n",
    "from keras.layers import MaxPooling2D, Dense, Dropout, Flatten\n",
    "from keras.utils import np_utils"
   ]
  },
  {
   "cell_type": "code",
   "execution_count": 4,
   "metadata": {},
   "outputs": [],
   "source": [
    "x_train=x_train/255\n",
    "x_test=x_test/255\n",
    "x_train=x_train.reshape(x_train.shape[0],x_train.shape[1],x_train.shape[2],1)\n",
    "x_test=x_test.reshape(x_test.shape[0], x_test.shape[1], x_test.shape[2],1)\n",
    "y_train=np_utils.to_categorical(y_train)\n",
    "y_test=np_utils.to_categorical(y_test)"
   ]
  },
  {
   "cell_type": "code",
   "execution_count": 5,
   "metadata": {},
   "outputs": [
    {
     "data": {
      "text/plain": [
       "(10000, 10)"
      ]
     },
     "execution_count": 5,
     "metadata": {},
     "output_type": "execute_result"
    }
   ],
   "source": [
    "y_test.shape"
   ]
  },
  {
   "cell_type": "code",
   "execution_count": 6,
   "metadata": {},
   "outputs": [],
   "source": [
    "model=Sequential()\n",
    "model.add(Convolution2D(32, padding='same', kernel_size=(3,3), activation='relu', input_shape=(28,28,1)))\n",
    "model.add(MaxPooling2D(pool_size=(2,2) ))\n",
    "model.add(Convolution2D(64, (3,3), activation='relu', padding='same'))\n",
    "model.add(MaxPooling2D((2,2)))\n",
    "model.add(Flatten())\n",
    "model.add(Dense(64, activation='relu'))\n",
    "model.add(Dense(32, activation='relu'))\n",
    "model.add(Dropout(0.5))\n",
    "model.add(Dense(y_test.shape[1], activation='softmax'))"
   ]
  },
  {
   "cell_type": "code",
   "execution_count": 7,
   "metadata": {},
   "outputs": [],
   "source": [
    "model.compile(loss='categorical_crossentropy', optimizer='adam', metrics=['accuracy'])"
   ]
  },
  {
   "cell_type": "code",
   "execution_count": 8,
   "metadata": {},
   "outputs": [
    {
     "name": "stdout",
     "output_type": "stream",
     "text": [
      "Train on 54000 samples, validate on 6000 samples\n",
      "Epoch 1/20\n",
      "54000/54000 [==============================] - 63s 1ms/step - loss: 0.3873 - acc: 0.8769 - val_loss: 0.0747 - val_acc: 0.9793\n",
      "Epoch 2/20\n",
      "54000/54000 [==============================] - 61s 1ms/step - loss: 0.1506 - acc: 0.9571 - val_loss: 0.0469 - val_acc: 0.9878\n",
      "Epoch 3/20\n",
      "54000/54000 [==============================] - 83s 2ms/step - loss: 0.1122 - acc: 0.9687 - val_loss: 0.0485 - val_acc: 0.9880\n",
      "Epoch 4/20\n",
      "54000/54000 [==============================] - 69s 1ms/step - loss: 0.0899 - acc: 0.9744 - val_loss: 0.0437 - val_acc: 0.9892\n",
      "Epoch 5/20\n",
      "54000/54000 [==============================] - 66s 1ms/step - loss: 0.0758 - acc: 0.9785 - val_loss: 0.0624 - val_acc: 0.9850\n",
      "Epoch 6/20\n",
      "54000/54000 [==============================] - 54s 1ms/step - loss: 0.0614 - acc: 0.9823 - val_loss: 0.0423 - val_acc: 0.9900\n",
      "Epoch 7/20\n",
      "54000/54000 [==============================] - 54s 1ms/step - loss: 0.0569 - acc: 0.9834 - val_loss: 0.0501 - val_acc: 0.9893\n",
      "Epoch 8/20\n",
      "54000/54000 [==============================] - 54s 997us/step - loss: 0.0495 - acc: 0.9854 - val_loss: 0.0447 - val_acc: 0.9908\n",
      "Epoch 9/20\n",
      "54000/54000 [==============================] - 54s 1ms/step - loss: 0.0464 - acc: 0.9864 - val_loss: 0.0455 - val_acc: 0.9915\n",
      "Epoch 10/20\n",
      "54000/54000 [==============================] - 54s 1ms/step - loss: 0.0431 - acc: 0.9873 - val_loss: 0.0614 - val_acc: 0.9900\n",
      "Epoch 11/20\n",
      "54000/54000 [==============================] - 55s 1ms/step - loss: 0.0419 - acc: 0.9881 - val_loss: 0.0895 - val_acc: 0.9860\n",
      "Epoch 12/20\n",
      "54000/54000 [==============================] - 58s 1ms/step - loss: 0.0371 - acc: 0.9889 - val_loss: 0.0520 - val_acc: 0.9907\n",
      "Epoch 13/20\n",
      "54000/54000 [==============================] - 69s 1ms/step - loss: 0.0353 - acc: 0.9896 - val_loss: 0.0569 - val_acc: 0.9903\n",
      "Epoch 14/20\n",
      "54000/54000 [==============================] - 64s 1ms/step - loss: 0.0331 - acc: 0.9904 - val_loss: 0.0640 - val_acc: 0.9890\n",
      "Epoch 15/20\n",
      "54000/54000 [==============================] - 59s 1ms/step - loss: 0.0281 - acc: 0.9917 - val_loss: 0.0703 - val_acc: 0.9882\n",
      "Epoch 16/20\n",
      "54000/54000 [==============================] - 54s 1ms/step - loss: 0.0307 - acc: 0.9906 - val_loss: 0.0644 - val_acc: 0.9912\n",
      "Epoch 17/20\n",
      "54000/54000 [==============================] - 54s 998us/step - loss: 0.0277 - acc: 0.9917 - val_loss: 0.0633 - val_acc: 0.9905\n",
      "Epoch 18/20\n",
      "54000/54000 [==============================] - 54s 999us/step - loss: 0.0267 - acc: 0.9921 - val_loss: 0.0727 - val_acc: 0.9900\n",
      "Epoch 19/20\n",
      "54000/54000 [==============================] - 55s 1ms/step - loss: 0.0277 - acc: 0.9917 - val_loss: 0.0807 - val_acc: 0.9885\n",
      "Epoch 20/20\n",
      "54000/54000 [==============================] - 69s 1ms/step - loss: 0.0268 - acc: 0.9920 - val_loss: 0.0703 - val_acc: 0.9903\n"
     ]
    },
    {
     "data": {
      "text/plain": [
       "<keras.callbacks.History at 0x267f5ff9a20>"
      ]
     },
     "execution_count": 8,
     "metadata": {},
     "output_type": "execute_result"
    }
   ],
   "source": [
    "model.fit(x_train, y_train, batch_size=32, epochs=20, validation_split=0.1)"
   ]
  },
  {
   "cell_type": "code",
   "execution_count": 9,
   "metadata": {},
   "outputs": [
    {
     "name": "stdout",
     "output_type": "stream",
     "text": [
      "10000/10000 [==============================] - 3s 305us/step\n"
     ]
    }
   ],
   "source": [
    "out=model.evaluate(x_test, y_test, verbose=1)"
   ]
  },
  {
   "cell_type": "code",
   "execution_count": 10,
   "metadata": {},
   "outputs": [
    {
     "name": "stdout",
     "output_type": "stream",
     "text": [
      "accuracy is 99.23%\n"
     ]
    }
   ],
   "source": [
    "print(\"accuracy is %.2f%%\" %(out[1]*100))"
   ]
  },
  {
   "cell_type": "code",
   "execution_count": null,
   "metadata": {},
   "outputs": [],
   "source": [
    "model.metrics_names"
   ]
  },
  {
   "cell_type": "code",
   "execution_count": null,
   "metadata": {},
   "outputs": [],
   "source": [
    "out"
   ]
  }
 ],
 "metadata": {
  "kernelspec": {
   "display_name": "Python 3",
   "language": "python",
   "name": "python3"
  },
  "language_info": {
   "codemirror_mode": {
    "name": "ipython",
    "version": 3
   },
   "file_extension": ".py",
   "mimetype": "text/x-python",
   "name": "python",
   "nbconvert_exporter": "python",
   "pygments_lexer": "ipython3",
   "version": "3.6.4"
  }
 },
 "nbformat": 4,
 "nbformat_minor": 2
}
